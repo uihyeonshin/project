{
  "cells": [
    {
      "cell_type": "markdown",
      "metadata": {
        "id": "view-in-github",
        "colab_type": "text"
      },
      "source": [
        "<a href=\"https://colab.research.google.com/github/uihyeonshin/project/blob/main/%EC%9D%B8%EA%B3%B5%EC%A7%80%EB%8A%A5(ConvNextTiny).ipynb\" target=\"_parent\"><img src=\"https://colab.research.google.com/assets/colab-badge.svg\" alt=\"Open In Colab\"/></a>"
      ]
    },
    {
      "cell_type": "code",
      "execution_count": null,
      "metadata": {
        "colab": {
          "base_uri": "https://localhost:8080/"
        },
        "id": "WC7H3-6PA9Q3",
        "outputId": "5b3066d0-a172-4191-98f7-7651dfbef73a"
      },
      "outputs": [
        {
          "output_type": "stream",
          "name": "stdout",
          "text": [
            "Mounted at /content/drive\n"
          ]
        }
      ],
      "source": [
        "from google.colab import drive\n",
        "drive.mount('/content/drive')"
      ]
    },
    {
      "cell_type": "code",
      "execution_count": null,
      "metadata": {
        "colab": {
          "base_uri": "https://localhost:8080/"
        },
        "id": "mOOkzBSUBN9k",
        "outputId": "15459823-b6c0-4d47-fa93-e8fde5404785"
      },
      "outputs": [
        {
          "output_type": "stream",
          "name": "stdout",
          "text": [
            "📦 Unzipping TS_멜라닌세포모반.zip -> /content/Training/images/TS_멜라닌세포모반\n",
            "📦 Unzipping TS_흑색점.zip -> /content/Training/images/TS_흑색점\n",
            "📦 Unzipping TS_피부섬유종.zip -> /content/Training/images/TS_피부섬유종\n",
            "📦 Unzipping TS_사마귀.zip -> /content/Training/images/TS_사마귀\n",
            "📦 Unzipping TS_혈관종.zip -> /content/Training/images/TS_혈관종\n",
            "📦 Unzipping TS_보웬병.zip -> /content/Training/images/TS_보웬병\n",
            "📦 Unzipping TS_표피낭종.zip -> /content/Training/images/TS_표피낭종\n",
            "📦 Unzipping TS_비립종.zip -> /content/Training/images/TS_비립종\n",
            "📦 Unzipping TS_화농 육아종.zip -> /content/Training/images/TS_화농 육아종\n",
            "📦 Unzipping TS_피지샘증식증.zip -> /content/Training/images/TS_피지샘증식증\n",
            "📦 Unzipping TS_악성흑색종.zip -> /content/Training/images/TS_악성흑색종\n",
            "📦 Unzipping TS_광선각화증.zip -> /content/Training/images/TS_광선각화증\n",
            "📦 Unzipping TS_지루각화증.zip -> /content/Training/images/TS_지루각화증\n",
            "📦 Unzipping TS_기저세포암.zip -> /content/Training/images/TS_기저세포암\n",
            "📦 Unzipping TS_편평세포암.zip -> /content/Training/images/TS_편평세포암\n",
            "📦 Unzipping TL_피지샘증식증.zip -> /content/Training/labels/TL_피지샘증식증\n",
            "📦 Unzipping TL_피부섬유종.zip -> /content/Training/labels/TL_피부섬유종\n",
            "📦 Unzipping TL_사마귀.zip -> /content/Training/labels/TL_사마귀\n",
            "📦 Unzipping TL_흑색점.zip -> /content/Training/labels/TL_흑색점\n",
            "📦 Unzipping TL_멜라닌세포모반.zip -> /content/Training/labels/TL_멜라닌세포모반\n",
            "📦 Unzipping TL_지루각화증.zip -> /content/Training/labels/TL_지루각화증\n",
            "📦 Unzipping TL_악성흑색종.zip -> /content/Training/labels/TL_악성흑색종\n",
            "📦 Unzipping TL_혈관종.zip -> /content/Training/labels/TL_혈관종\n",
            "📦 Unzipping TL_기저세포암.zip -> /content/Training/labels/TL_기저세포암\n",
            "📦 Unzipping TL_보웬병.zip -> /content/Training/labels/TL_보웬병\n",
            "📦 Unzipping TL_표피낭종.zip -> /content/Training/labels/TL_표피낭종\n",
            "📦 Unzipping TL_화농 육아종.zip -> /content/Training/labels/TL_화농 육아종\n",
            "📦 Unzipping TL_비립종.zip -> /content/Training/labels/TL_비립종\n",
            "📦 Unzipping TL_광선각화증.zip -> /content/Training/labels/TL_광선각화증\n",
            "📦 Unzipping TL_편평세포암.zip -> /content/Training/labels/TL_편평세포암\n"
          ]
        }
      ],
      "source": [
        "import zipfile\n",
        "import os\n",
        "\n",
        "# 원천데이터 압축 해제\n",
        "def unzip_all(zip_dir, extract_root):\n",
        "    os.makedirs(extract_root, exist_ok=True)\n",
        "    for zip_file in os.listdir(zip_dir):\n",
        "        if zip_file.endswith('.zip'):\n",
        "            label_name = zip_file.replace('.zip', '')\n",
        "            zip_path = os.path.join(zip_dir, zip_file)\n",
        "            extract_path = os.path.join(extract_root, label_name)\n",
        "            os.makedirs(extract_path, exist_ok=True)\n",
        "            print(f'📦 Unzipping {zip_file} -> {extract_path}')\n",
        "            with zipfile.ZipFile(zip_path, 'r') as zip_ref:\n",
        "                zip_ref.extractall(extract_path)\n",
        "\n",
        "# 경로 지정\n",
        "base_drive = '/content/drive/MyDrive/1.데이터'\n",
        "train_img_zip_dir = os.path.join(base_drive, 'Training/01.원천데이터')\n",
        "train_lbl_zip_dir = os.path.join(base_drive, 'Training/02.라벨링데이터')\n",
        "\n",
        "# 이미지와 라벨 압축 해제\n",
        "unzip_all(train_img_zip_dir, '/content/Training/images')\n",
        "unzip_all(train_lbl_zip_dir, '/content/Training/labels')\n"
      ]
    },
    {
      "cell_type": "code",
      "execution_count": null,
      "metadata": {
        "colab": {
          "base_uri": "https://localhost:8080/"
        },
        "id": "lruLV7NaCkde",
        "outputId": "5340390d-c922-4cf7-ef0e-699d558efc83"
      },
      "outputs": [
        {
          "output_type": "stream",
          "name": "stdout",
          "text": [
            "📦 Unzipping VS_멜라닌세포모반.zip -> /content/Validation/images/VS_멜라닌세포모반\n",
            "📦 Unzipping VS_흑색점.zip -> /content/Validation/images/VS_흑색점\n",
            "📦 Unzipping VS_사마귀.zip -> /content/Validation/images/VS_사마귀\n",
            "📦 Unzipping VS_피부섬유종.zip -> /content/Validation/images/VS_피부섬유종\n",
            "📦 Unzipping VS_혈관종.zip -> /content/Validation/images/VS_혈관종\n",
            "📦 Unzipping VS_보웬병.zip -> /content/Validation/images/VS_보웬병\n",
            "📦 Unzipping VS_비립종.zip -> /content/Validation/images/VS_비립종\n",
            "📦 Unzipping VS_표피낭종.zip -> /content/Validation/images/VS_표피낭종\n",
            "📦 Unzipping VS_화농 육아종.zip -> /content/Validation/images/VS_화농 육아종\n",
            "📦 Unzipping VS_피지샘증식증.zip -> /content/Validation/images/VS_피지샘증식증\n",
            "📦 Unzipping VS_광선각화증.zip -> /content/Validation/images/VS_광선각화증\n",
            "📦 Unzipping VS_지루각화증.zip -> /content/Validation/images/VS_지루각화증\n",
            "📦 Unzipping VS_악성흑색종.zip -> /content/Validation/images/VS_악성흑색종\n",
            "📦 Unzipping VS_기저세포암.zip -> /content/Validation/images/VS_기저세포암\n",
            "📦 Unzipping VS_편평세포암.zip -> /content/Validation/images/VS_편평세포암\n",
            "📦 Unzipping VL_지루각화증.zip -> /content/Validation/labels/VL_지루각화증\n",
            "📦 Unzipping VL_피부섬유종.zip -> /content/Validation/labels/VL_피부섬유종\n",
            "📦 Unzipping VL_피지샘증식증.zip -> /content/Validation/labels/VL_피지샘증식증\n",
            "📦 Unzipping VL_혈관종.zip -> /content/Validation/labels/VL_혈관종\n",
            "📦 Unzipping VL_보웬병.zip -> /content/Validation/labels/VL_보웬병\n",
            "📦 Unzipping VL_비립종.zip -> /content/Validation/labels/VL_비립종\n",
            "📦 Unzipping VL_흑색점.zip -> /content/Validation/labels/VL_흑색점\n",
            "📦 Unzipping VL_악성흑색종.zip -> /content/Validation/labels/VL_악성흑색종\n",
            "📦 Unzipping VL_편평세포암.zip -> /content/Validation/labels/VL_편평세포암\n",
            "📦 Unzipping VL_멜라닌세포모반.zip -> /content/Validation/labels/VL_멜라닌세포모반\n",
            "📦 Unzipping VL_화농 육아종.zip -> /content/Validation/labels/VL_화농 육아종\n",
            "📦 Unzipping VL_광선각화증.zip -> /content/Validation/labels/VL_광선각화증\n",
            "📦 Unzipping VL_기저세포암.zip -> /content/Validation/labels/VL_기저세포암\n",
            "📦 Unzipping VL_표피낭종.zip -> /content/Validation/labels/VL_표피낭종\n",
            "📦 Unzipping VL_사마귀.zip -> /content/Validation/labels/VL_사마귀\n"
          ]
        }
      ],
      "source": [
        "# ── Validation ──\n",
        "val_img_zip_dir = os.path.join(base_drive, 'Validation/01.원천데이터')\n",
        "val_lbl_zip_dir = os.path.join(base_drive, 'Validation/02.라벨링데이터')\n",
        "unzip_all(val_img_zip_dir, '/content/Validation/images')\n",
        "unzip_all(val_lbl_zip_dir, '/content/Validation/labels')"
      ]
    },
    {
      "cell_type": "code",
      "execution_count": null,
      "metadata": {
        "id": "63V_e4GdEN7g"
      },
      "outputs": [],
      "source": [
        "import json\n",
        "import os\n",
        "import pandas as pd\n",
        "import unicodedata\n",
        "import unicodedata\n",
        "\n",
        "def parse_label_jsons_TS(json_root, image_root, prefix='TS_'):\n",
        "    data = []\n",
        "\n",
        "    for class_folder in os.listdir(json_root):\n",
        "        class_path = os.path.join(json_root, class_folder)\n",
        "        if not os.path.isdir(class_path):\n",
        "            continue\n",
        "\n",
        "        for file in os.listdir(class_path):\n",
        "            if file.endswith('.json'):\n",
        "                with open(os.path.join(class_path, file), 'r') as f:\n",
        "                    jdata = json.load(f)\n",
        "                    for ann in jdata['annotations']:\n",
        "                        label = ann['diagnosis_info']['diagnosis_name']\n",
        "                        filename = os.path.basename(ann['photograph']['file_path'])\n",
        "\n",
        "                        # ✅ NFC 정규화로 변경\n",
        "                        foldername = unicodedata.normalize('NFD', f'{prefix}{label}')\n",
        "                        img_path = os.path.join(image_root, foldername, filename)\n",
        "                        data.append({'filename': img_path, 'label': label})\n",
        "\n",
        "    return pd.DataFrame(data)\n",
        "\n",
        "def parse_label_jsons_VS(json_root, image_root, prefix='VS_'):\n",
        "    data = []\n",
        "\n",
        "    for class_folder in os.listdir(json_root):\n",
        "        class_path = os.path.join(json_root, class_folder)\n",
        "        if not os.path.isdir(class_path):\n",
        "            continue\n",
        "\n",
        "        for file in os.listdir(class_path):\n",
        "            if file.endswith('.json'):\n",
        "                with open(os.path.join(class_path, file), 'r') as f:\n",
        "                    jdata = json.load(f)\n",
        "                    for ann in jdata['annotations']:\n",
        "                        label = ann['diagnosis_info']['diagnosis_name']\n",
        "                        filename = os.path.basename(ann['photograph']['file_path'])\n",
        "\n",
        "                        # ✅ NFC 정규화로 변경\n",
        "                        foldername = unicodedata.normalize('NFD', f'{prefix}{label}')\n",
        "                        img_path = os.path.join(image_root, foldername, filename)\n",
        "                        data.append({'filename': img_path, 'label': label})\n",
        "\n",
        "    return pd.DataFrame(data)\n"
      ]
    },
    {
      "cell_type": "code",
      "execution_count": null,
      "metadata": {
        "id": "Olw7RZfOEPlh"
      },
      "outputs": [],
      "source": [
        "# Training (prefix = 'TS_')\n",
        "train_df = parse_label_jsons_TS(\n",
        "    json_root='/content/Training/labels',\n",
        "    image_root='/content/Training/images',\n",
        "    prefix='TS_'\n",
        ")\n",
        "\n",
        "val_df = parse_label_jsons_VS(\n",
        "    json_root='/content/Validation/labels',\n",
        "    image_root='/content/Validation/images',\n",
        "    prefix='VS_'\n",
        ")\n"
      ]
    },
    {
      "cell_type": "code",
      "execution_count": null,
      "metadata": {
        "colab": {
          "base_uri": "https://localhost:8080/"
        },
        "id": "rSg1Dg9eKgtU",
        "outputId": "52e06fd7-8fdc-45e9-f54d-4a4117dfc573"
      },
      "outputs": [
        {
          "output_type": "stream",
          "name": "stdout",
          "text": [
            "/content/Training/images/TS_피지샘증식증/Z4_67288_P0_L0.png\n",
            "True\n",
            "/content/Validation/images/VS_흑색점/Z4_51349_P0_L0.png\n",
            "True\n"
          ]
        }
      ],
      "source": [
        "print(train_df['filename'].iloc[0])\n",
        "print(os.path.exists(train_df['filename'].iloc[0]))  # ✅ 이제 True 떠야 함!\n",
        "\n",
        "print(val_df['filename'].iloc[0])\n",
        "print(os.path.exists(val_df['filename'].iloc[0]))  # ✅ 이제 True 떠야 함!"
      ]
    },
    {
      "cell_type": "code",
      "execution_count": null,
      "metadata": {
        "id": "PjYhoUmrjSeE"
      },
      "outputs": [],
      "source": [
        "# 한글 → 영어 라벨 매핑 딕셔너리\n",
        "label_kor2eng = {\n",
        "    '광선각화증': 'Actinic keratosis',\n",
        "    '기저세포암': 'Basal cell carcinoma',\n",
        "    '지루각화증': 'Benign keratosis',\n",
        "    '피부섬유종': 'Dermatofibroma',\n",
        "    '멜라닌세포모반': 'Melanocytic nevus',\n",
        "    '악성흑색종': 'Melanoma',\n",
        "    '편평세포암': 'Squamous cell carcinoma',\n",
        "    '혈관종': 'Vascular lesion'\n",
        "}"
      ]
    },
    {
      "cell_type": "code",
      "execution_count": null,
      "metadata": {
        "colab": {
          "base_uri": "https://localhost:8080/"
        },
        "id": "ftf0ugCwjUWq",
        "outputId": "344853fd-5f45-4603-e408-ed88d801df2b"
      },
      "outputs": [
        {
          "output_type": "stream",
          "name": "stdout",
          "text": [
            "✔️ 변환 후 train_df 라벨 분포:\n",
            "label\n",
            "Benign keratosis           800\n",
            "Actinic keratosis          800\n",
            "Melanocytic nevus          800\n",
            "Squamous cell carcinoma    800\n",
            "Vascular lesion            800\n",
            "Basal cell carcinoma       800\n",
            "Melanoma                   800\n",
            "Dermatofibroma             800\n",
            "Name: count, dtype: int64\n",
            "\n",
            "✔️ 변환 후 val_df 라벨 분포:\n",
            "label\n",
            "Melanoma                   100\n",
            "Vascular lesion            100\n",
            "Benign keratosis           100\n",
            "Squamous cell carcinoma    100\n",
            "Melanocytic nevus          100\n",
            "Actinic keratosis          100\n",
            "Basal cell carcinoma       100\n",
            "Dermatofibroma             100\n",
            "Name: count, dtype: int64\n"
          ]
        }
      ],
      "source": [
        "# 영어 라벨만 남기기 위한 target 클래스 리스트\n",
        "target_labels = list(label_kor2eng.values())\n",
        "\n",
        "# 1. 라벨 영어로 변환\n",
        "train_df['label'] = train_df['label'].map(label_kor2eng)\n",
        "val_df['label'] = val_df['label'].map(label_kor2eng)\n",
        "\n",
        "# 2. 매핑 안된 라벨 (NaN) 제거 → 즉, 타겟 클래스 외 제거\n",
        "train_df = train_df.dropna(subset=['label'])\n",
        "val_df = val_df.dropna(subset=['label'])\n",
        "\n",
        "# 결과 확인\n",
        "print(\"✔️ 변환 후 train_df 라벨 분포:\")\n",
        "print(train_df['label'].value_counts())\n",
        "print(\"\\n✔️ 변환 후 val_df 라벨 분포:\")\n",
        "print(val_df['label'].value_counts())"
      ]
    },
    {
      "cell_type": "code",
      "execution_count": null,
      "metadata": {
        "colab": {
          "base_uri": "https://localhost:8080/"
        },
        "id": "JLuNULH2E6Lz",
        "outputId": "dd99d6ef-b8df-4275-851d-d50f91307a64"
      },
      "outputs": [
        {
          "output_type": "stream",
          "name": "stdout",
          "text": [
            "/content/Training/images/TS_지루각화증/Z4_29011_P0_L0.png\n",
            "True\n",
            "['Benign keratosis' 'Actinic keratosis' 'Melanocytic nevus'\n",
            " 'Squamous cell carcinoma' 'Vascular lesion' 'Basal cell carcinoma'\n",
            " 'Melanoma' 'Dermatofibroma']\n",
            "filename    0\n",
            "label       0\n",
            "dtype: int64\n"
          ]
        }
      ],
      "source": [
        "print(train_df['filename'].iloc[0])\n",
        "print(os.path.exists(train_df['filename'].iloc[0]))\n",
        "\n",
        "print(train_df['label'].unique())  # 라벨 이상 없는지\n",
        "print(train_df.isnull().sum())    # 결측치 있는지\n"
      ]
    },
    {
      "cell_type": "code",
      "execution_count": null,
      "metadata": {
        "colab": {
          "base_uri": "https://localhost:8080/"
        },
        "id": "TYc-vuymj8Aa",
        "outputId": "76856169-9426-46f4-a8e7-7702153ed4bf"
      },
      "outputs": [
        {
          "output_type": "stream",
          "name": "stdout",
          "text": [
            "✅ 압축 해제 완료: /content/image\n"
          ]
        }
      ],
      "source": [
        "# 1. 압축 해제\n",
        "zip_path = '/content/drive/MyDrive/image/archive.zip'\n",
        "extract_dir = '/content/image'\n",
        "\n",
        "with zipfile.ZipFile(zip_path, 'r') as zip_ref:\n",
        "    zip_ref.extractall(extract_dir)\n",
        "\n",
        "print(f\"✅ 압축 해제 완료: {extract_dir}\")"
      ]
    },
    {
      "cell_type": "code",
      "execution_count": null,
      "metadata": {
        "colab": {
          "base_uri": "https://localhost:8080/"
        },
        "id": "RJ-wRs4mlSN7",
        "outputId": "3f75b438-7676-431a-f6ad-4471f06cd551"
      },
      "outputs": [
        {
          "output_type": "stream",
          "name": "stdout",
          "text": [
            "                                            filename     label\n",
            "0  /content/image/ISIC_Labelled/Melanoma/ISIC_003...  Melanoma\n",
            "1  /content/image/ISIC_Labelled/Melanoma/ISIC_006...  Melanoma\n",
            "2  /content/image/ISIC_Labelled/Melanoma/ISIC_005...  Melanoma\n",
            "3  /content/image/ISIC_Labelled/Melanoma/ISIC_006...  Melanoma\n",
            "4  /content/image/ISIC_Labelled/Melanoma/ISIC_006...  Melanoma\n",
            "\n",
            "✅ 총 이미지 수: 25331\n",
            "📊 클래스 수: 8\n",
            "🧷 클래스 목록: ['Melanoma' 'Melanocytic nevus' 'Vascular lesion' 'Dermatofibroma'\n",
            " 'Actinic keratosis' 'Squamous cell carcinoma' 'Basal cell carcinoma'\n",
            " 'Benign keratosis']\n"
          ]
        }
      ],
      "source": [
        "image_root1 = '/content/image/ISIC_Labelled'\n",
        "data = []\n",
        "\n",
        "for label in os.listdir(image_root1):\n",
        "    label_path = os.path.join(image_root1, label)\n",
        "    if os.path.isdir(label_path):\n",
        "        for fname in os.listdir(label_path):\n",
        "            if fname.lower().endswith(('.jpg', '.jpeg', '.png')):\n",
        "                fpath = os.path.join(label_path, fname)  # 🔥 여기 핵심\n",
        "                data.append({'filename': fpath, 'label': label})\n",
        "\n",
        "df_isic = pd.DataFrame(data)\n",
        "\n",
        "# 확인\n",
        "print(df_isic.head())\n",
        "print(f\"\\n✅ 총 이미지 수: {len(df_isic)}\")\n",
        "print(f\"📊 클래스 수: {df_isic['label'].nunique()}\")\n",
        "print(f\"🧷 클래스 목록: {df_isic['label'].unique()}\")\n",
        "\n"
      ]
    },
    {
      "cell_type": "code",
      "execution_count": null,
      "metadata": {
        "colab": {
          "base_uri": "https://localhost:8080/"
        },
        "id": "vYNCTgUKk6z7",
        "outputId": "100de99f-a0b4-4890-db69-8b70dcee9fe7"
      },
      "outputs": [
        {
          "output_type": "stream",
          "name": "stdout",
          "text": [
            "🔄 전체 데이터 수: 32531\n",
            "label\n",
            "Melanocytic nevus          13775\n",
            "Melanoma                    5422\n",
            "Basal cell carcinoma        4223\n",
            "Benign keratosis            3524\n",
            "Actinic keratosis           1767\n",
            "Squamous cell carcinoma     1528\n",
            "Vascular lesion             1153\n",
            "Dermatofibroma              1139\n",
            "Name: count, dtype: int64\n"
          ]
        }
      ],
      "source": [
        "full_df = pd.concat([train_df, val_df, df_isic], ignore_index=True)\n",
        "print(f\"🔄 전체 데이터 수: {len(full_df)}\")\n",
        "print(full_df['label'].value_counts())\n",
        "\n"
      ]
    },
    {
      "cell_type": "code",
      "source": [
        "full_df1 = pd.concat([train_df, val_df, df_isic], ignore_index=True)\n",
        "print(f\"🔄 전체 데이터 수: {len(full_df1)}\")\n",
        "print(full_df1['label'].value_counts())\n"
      ],
      "metadata": {
        "colab": {
          "base_uri": "https://localhost:8080/"
        },
        "id": "FDwBs9nuygnO",
        "outputId": "4a7e67c7-ac66-4a02-abfb-784dd0f968ac"
      },
      "execution_count": null,
      "outputs": [
        {
          "output_type": "stream",
          "name": "stdout",
          "text": [
            "🔄 전체 데이터 수: 32531\n",
            "label\n",
            "Melanocytic nevus          13775\n",
            "Melanoma                    5422\n",
            "Basal cell carcinoma        4223\n",
            "Benign keratosis            3524\n",
            "Actinic keratosis           1767\n",
            "Squamous cell carcinoma     1528\n",
            "Vascular lesion             1153\n",
            "Dermatofibroma              1139\n",
            "Name: count, dtype: int64\n"
          ]
        }
      ]
    },
    {
      "cell_type": "code",
      "execution_count": null,
      "metadata": {
        "colab": {
          "base_uri": "https://localhost:8080/"
        },
        "id": "Ootz1DvgxR4L",
        "outputId": "638f2599-eaca-4889-a742-66e7c3700c7e"
      },
      "outputs": [
        {
          "output_type": "stream",
          "name": "stdout",
          "text": [
            "Train: 26024개, Val: 3253개, Test: 3254개\n"
          ]
        }
      ],
      "source": [
        "from sklearn.model_selection import train_test_split\n",
        "from sklearn.utils import class_weight\n",
        "import numpy as np\n",
        "\n",
        "# Train 80% / Temp 20%\n",
        "train_df, temp_df = train_test_split(\n",
        "    full_df1, test_size=0.2, stratify=full_df1['label'], random_state=42\n",
        ")\n",
        "\n",
        "# Temp → Validation 10% / Test 10%\n",
        "val_df, test_df = train_test_split(\n",
        "    temp_df, test_size=0.5, stratify=temp_df['label'], random_state=42\n",
        ")\n",
        "\n",
        "print(f\"Train: {len(train_df)}개, Val: {len(val_df)}개, Test: {len(test_df)}개\")\n",
        "\n",
        "# 2. class_weight 계산\n",
        "class_weights = class_weight.compute_class_weight(\n",
        "    class_weight='balanced',\n",
        "    classes=np.unique(train_df['label']),\n",
        "    y=train_df['label']\n",
        ")\n",
        "class_weights_dict = dict(zip(np.unique(train_df['label']), class_weights))\n",
        "\n"
      ]
    },
    {
      "cell_type": "code",
      "execution_count": null,
      "metadata": {
        "colab": {
          "base_uri": "https://localhost:8080/"
        },
        "id": "c8NIsBPFEZVe",
        "outputId": "96ef4861-bc8d-49bf-af22-195d1fb71e4e"
      },
      "outputs": [
        {
          "output_type": "stream",
          "name": "stdout",
          "text": [
            "Found 26024 validated image filenames belonging to 8 classes.\n",
            "Found 3253 validated image filenames belonging to 8 classes.\n",
            "Found 3254 validated image filenames belonging to 8 classes.\n"
          ]
        }
      ],
      "source": [
        "# 5. ImageDataGenerator\n",
        "from tensorflow.keras.preprocessing.image import ImageDataGenerator\n",
        "\n",
        "datagen = ImageDataGenerator(rescale=1./255)\n",
        "\n",
        "train_datagen = ImageDataGenerator(\n",
        "    rescale=1./255,\n",
        "    rotation_range=30,\n",
        "    width_shift_range=0.1,\n",
        "    height_shift_range=0.1,\n",
        "    zoom_range=0.2,\n",
        "    horizontal_flip=True,\n",
        "    brightness_range=[0.8, 1.2],\n",
        "    shear_range=15\n",
        ")\n",
        "\n",
        "train_gen = train_datagen.flow_from_dataframe(\n",
        "    train_df, x_col='filename', y_col='label',\n",
        "    target_size=(224, 224), class_mode='categorical',\n",
        "    batch_size=32, shuffle=True\n",
        ")\n",
        "val_gen = datagen.flow_from_dataframe(\n",
        "    val_df, x_col='filename', y_col='label',\n",
        "    target_size=(224, 224), class_mode='categorical',\n",
        "    batch_size=32, shuffle=False\n",
        ")\n",
        "test_gen = datagen.flow_from_dataframe(\n",
        "    test_df, x_col='filename', y_col='label',\n",
        "    target_size=(224, 224), class_mode='categorical',\n",
        "    batch_size=32, shuffle=False\n",
        ")"
      ]
    },
    {
      "cell_type": "code",
      "execution_count": null,
      "metadata": {
        "colab": {
          "base_uri": "https://localhost:8080/"
        },
        "id": "h3laqaZYnWZN",
        "outputId": "bd42e372-ccef-4fd2-acb5-a0c95710d89d"
      },
      "outputs": [
        {
          "output_type": "stream",
          "name": "stdout",
          "text": [
            "                                                filename                 label\n",
            "15297  /content/image/ISIC_Labelled/Melanocytic nevus...     Melanocytic nevus\n",
            "24665  /content/image/ISIC_Labelled/Vascular lesion/I...       Vascular lesion\n",
            "14027  /content/image/ISIC_Labelled/Melanocytic nevus...     Melanocytic nevus\n",
            "23840  /content/image/ISIC_Labelled/Melanocytic nevus...     Melanocytic nevus\n",
            "28631  /content/image/ISIC_Labelled/Basal cell carcin...  Basal cell carcinoma\n",
            "/content/image/ISIC_Labelled/Melanocytic nevus/ISIC_0032041.jpg\n",
            "True\n"
          ]
        },
        {
          "output_type": "execute_result",
          "data": {
            "text/plain": [
              "np.int64(26024)"
            ]
          },
          "metadata": {},
          "execution_count": 16
        }
      ],
      "source": [
        "print(train_df.head())\n",
        "print(train_df['filename'].iloc[0])\n",
        "print(os.path.exists(train_df['filename'].iloc[0]))\n",
        "train_df['filename'].apply(os.path.exists).sum()\n"
      ]
    },
    {
      "cell_type": "code",
      "execution_count": null,
      "metadata": {
        "colab": {
          "base_uri": "https://localhost:8080/"
        },
        "id": "UUXVJ0UPJ-3N",
        "outputId": "737b303a-d032-4813-d9ed-703b6becb67b"
      },
      "outputs": [
        {
          "output_type": "stream",
          "name": "stdout",
          "text": [
            "Downloading data from https://storage.googleapis.com/tensorflow/keras-applications/convnext/convnext_tiny_notop.h5\n",
            "\u001b[1m111650432/111650432\u001b[0m \u001b[32m━━━━━━━━━━━━━━━━━━━━\u001b[0m\u001b[37m\u001b[0m \u001b[1m6s\u001b[0m 0us/step\n"
          ]
        },
        {
          "output_type": "stream",
          "name": "stderr",
          "text": [
            "/usr/local/lib/python3.11/dist-packages/keras/src/trainers/data_adapters/py_dataset_adapter.py:121: UserWarning: Your `PyDataset` class should call `super().__init__(**kwargs)` in its constructor. `**kwargs` can include `workers`, `use_multiprocessing`, `max_queue_size`. Do not pass these arguments to `fit()`, as they will be ignored.\n",
            "  self._warn_if_super_not_called()\n"
          ]
        },
        {
          "output_type": "stream",
          "name": "stdout",
          "text": [
            "Epoch 1/10\n",
            "\u001b[1m814/814\u001b[0m \u001b[32m━━━━━━━━━━━━━━━━━━━━\u001b[0m\u001b[37m\u001b[0m \u001b[1m603s\u001b[0m 714ms/step - accuracy: 0.2918 - loss: 2.0165 - val_accuracy: 0.4233 - val_loss: 1.6910\n",
            "Epoch 2/10\n",
            "\u001b[1m814/814\u001b[0m \u001b[32m━━━━━━━━━━━━━━━━━━━━\u001b[0m\u001b[37m\u001b[0m \u001b[1m542s\u001b[0m 666ms/step - accuracy: 0.4228 - loss: 1.7327 - val_accuracy: 0.4233 - val_loss: 1.6744\n",
            "Epoch 3/10\n",
            "\u001b[1m814/814\u001b[0m \u001b[32m━━━━━━━━━━━━━━━━━━━━\u001b[0m\u001b[37m\u001b[0m \u001b[1m540s\u001b[0m 663ms/step - accuracy: 0.4298 - loss: 1.6896 - val_accuracy: 0.4230 - val_loss: 1.6622\n",
            "Epoch 4/10\n",
            "\u001b[1m814/814\u001b[0m \u001b[32m━━━━━━━━━━━━━━━━━━━━\u001b[0m\u001b[37m\u001b[0m \u001b[1m535s\u001b[0m 658ms/step - accuracy: 0.4254 - loss: 1.6821 - val_accuracy: 0.4239 - val_loss: 1.6516\n",
            "Epoch 5/10\n",
            "\u001b[1m814/814\u001b[0m \u001b[32m━━━━━━━━━━━━━━━━━━━━\u001b[0m\u001b[37m\u001b[0m \u001b[1m536s\u001b[0m 659ms/step - accuracy: 0.4300 - loss: 1.6683 - val_accuracy: 0.4288 - val_loss: 1.6438\n",
            "Epoch 6/10\n",
            "\u001b[1m814/814\u001b[0m \u001b[32m━━━━━━━━━━━━━━━━━━━━\u001b[0m\u001b[37m\u001b[0m \u001b[1m535s\u001b[0m 658ms/step - accuracy: 0.4263 - loss: 1.6654 - val_accuracy: 0.4334 - val_loss: 1.6380\n",
            "Epoch 7/10\n",
            "\u001b[1m814/814\u001b[0m \u001b[32m━━━━━━━━━━━━━━━━━━━━\u001b[0m\u001b[37m\u001b[0m \u001b[1m537s\u001b[0m 660ms/step - accuracy: 0.4309 - loss: 1.6572 - val_accuracy: 0.4387 - val_loss: 1.6297\n",
            "Epoch 8/10\n",
            "\u001b[1m814/814\u001b[0m \u001b[32m━━━━━━━━━━━━━━━━━━━━\u001b[0m\u001b[37m\u001b[0m \u001b[1m536s\u001b[0m 658ms/step - accuracy: 0.4323 - loss: 1.6469 - val_accuracy: 0.4427 - val_loss: 1.6252\n",
            "Epoch 9/10\n",
            "\u001b[1m814/814\u001b[0m \u001b[32m━━━━━━━━━━━━━━━━━━━━\u001b[0m\u001b[37m\u001b[0m \u001b[1m539s\u001b[0m 662ms/step - accuracy: 0.4331 - loss: 1.6524 - val_accuracy: 0.4464 - val_loss: 1.6197\n",
            "Epoch 10/10\n",
            "\u001b[1m814/814\u001b[0m \u001b[32m━━━━━━━━━━━━━━━━━━━━\u001b[0m\u001b[37m\u001b[0m \u001b[1m537s\u001b[0m 660ms/step - accuracy: 0.4352 - loss: 1.6400 - val_accuracy: 0.4488 - val_loss: 1.6166\n"
          ]
        }
      ],
      "source": [
        "\n",
        "from tensorflow.keras.applications import ConvNeXtTiny\n",
        "from tensorflow.keras.models import Model\n",
        "from tensorflow.keras.layers import Dense, Dropout, GlobalAveragePooling2D\n",
        "from tensorflow.keras.optimizers import Adam\n",
        "from tensorflow.keras.callbacks import EarlyStopping, ModelCheckpoint\n",
        "\n",
        "# 1. Base Model: ConvNeXtTiny (or ConvNeXtBase, ConvNeXtLarge)\n",
        "base_model = ConvNeXtTiny(\n",
        "    include_top=False,\n",
        "    weights='imagenet',\n",
        "    input_shape=(224, 224, 3)\n",
        ")\n",
        "base_model.trainable = False  # Transfer Learning 기본: Freeze\n",
        "\n",
        "# 2. Custom Head 추가\n",
        "x = base_model.output\n",
        "x = GlobalAveragePooling2D()(x)\n",
        "x = Dropout(0.3)(x)\n",
        "outputs = Dense(8, activation='softmax')(x)  # 클래스 수에 맞게 수정\n",
        "\n",
        "model = Model(inputs=base_model.input, outputs=outputs)\n",
        "\n",
        "# 3. Compile\n",
        "model.compile(\n",
        "    optimizer=Adam(learning_rate=1e-4),\n",
        "    loss='categorical_crossentropy',\n",
        "    metrics=['accuracy']\n",
        ")\n",
        "\n",
        "# 4. 콜백\n",
        "callbacks = [\n",
        "    EarlyStopping(patience=5, restore_best_weights=True),\n",
        "    ModelCheckpoint('convnext_best.keras', save_best_only=True, monitor='val_accuracy')\n",
        "]\n",
        "\n",
        "# 5. 학습\n",
        "history = model.fit(\n",
        "    train_gen,\n",
        "    validation_data=val_gen,\n",
        "    epochs=10,\n",
        "    class_weight=class_weights_dict,\n",
        "    callbacks=callbacks\n",
        ")\n"
      ]
    },
    {
      "cell_type": "code",
      "execution_count": null,
      "metadata": {
        "id": "t4XROA0_x8u7",
        "colab": {
          "base_uri": "https://localhost:8080/"
        },
        "outputId": "1b27ae96-dd15-4848-85bb-64894114c3ba"
      },
      "outputs": [
        {
          "output_type": "stream",
          "name": "stdout",
          "text": [
            "\u001b[1m102/102\u001b[0m \u001b[32m━━━━━━━━━━━━━━━━━━━━\u001b[0m\u001b[37m\u001b[0m \u001b[1m29s\u001b[0m 279ms/step - accuracy: 0.4618 - loss: 1.6077\n",
            "\n",
            "📊 Validation Accuracy: 0.4488\n"
          ]
        }
      ],
      "source": [
        "# 모델 평가\n",
        "val_loss, val_acc = model.evaluate(val_gen)\n",
        "print(f\"\\n📊 Validation Accuracy: {val_acc:.4f}\")\n"
      ]
    },
    {
      "cell_type": "code",
      "execution_count": null,
      "metadata": {
        "id": "AUBGhTj0x9Yz",
        "colab": {
          "base_uri": "https://localhost:8080/",
          "height": 1000
        },
        "outputId": "d79df7b7-f8d9-4998-c793-41616d0c8efc"
      },
      "outputs": [
        {
          "output_type": "stream",
          "name": "stderr",
          "text": [
            "/usr/local/lib/python3.11/dist-packages/keras/src/trainers/data_adapters/py_dataset_adapter.py:121: UserWarning: Your `PyDataset` class should call `super().__init__(**kwargs)` in its constructor. `**kwargs` can include `workers`, `use_multiprocessing`, `max_queue_size`. Do not pass these arguments to `fit()`, as they will be ignored.\n",
            "  self._warn_if_super_not_called()\n"
          ]
        },
        {
          "output_type": "stream",
          "name": "stdout",
          "text": [
            "\u001b[1m102/102\u001b[0m \u001b[32m━━━━━━━━━━━━━━━━━━━━\u001b[0m\u001b[37m\u001b[0m \u001b[1m45s\u001b[0m 400ms/step\n",
            "\n",
            "📄 Classification Report:\n",
            "                         precision    recall  f1-score   support\n",
            "\n",
            "      Actinic keratosis       0.00      0.00      0.00       176\n",
            "   Basal cell carcinoma       0.30      0.05      0.09       423\n",
            "       Benign keratosis       0.00      0.00      0.00       353\n",
            "         Dermatofibroma       0.00      0.00      0.00       114\n",
            "      Melanocytic nevus       0.45      0.98      0.61      1378\n",
            "               Melanoma       0.50      0.04      0.07       542\n",
            "Squamous cell carcinoma       0.37      0.30      0.33       153\n",
            "        Vascular lesion       0.00      0.00      0.00       115\n",
            "\n",
            "               accuracy                           0.44      3254\n",
            "              macro avg       0.20      0.17      0.14      3254\n",
            "           weighted avg       0.33      0.44      0.30      3254\n",
            "\n"
          ]
        },
        {
          "output_type": "stream",
          "name": "stderr",
          "text": [
            "/usr/local/lib/python3.11/dist-packages/sklearn/metrics/_classification.py:1565: UndefinedMetricWarning: Precision is ill-defined and being set to 0.0 in labels with no predicted samples. Use `zero_division` parameter to control this behavior.\n",
            "  _warn_prf(average, modifier, f\"{metric.capitalize()} is\", len(result))\n",
            "/usr/local/lib/python3.11/dist-packages/sklearn/metrics/_classification.py:1565: UndefinedMetricWarning: Precision is ill-defined and being set to 0.0 in labels with no predicted samples. Use `zero_division` parameter to control this behavior.\n",
            "  _warn_prf(average, modifier, f\"{metric.capitalize()} is\", len(result))\n",
            "/usr/local/lib/python3.11/dist-packages/sklearn/metrics/_classification.py:1565: UndefinedMetricWarning: Precision is ill-defined and being set to 0.0 in labels with no predicted samples. Use `zero_division` parameter to control this behavior.\n",
            "  _warn_prf(average, modifier, f\"{metric.capitalize()} is\", len(result))\n"
          ]
        },
        {
          "output_type": "display_data",
          "data": {
            "text/plain": [
              "<Figure size 800x600 with 2 Axes>"
            ],
            "image/png": "[encoded data removed]"
          },
          "metadata": {}
        }
      ],
      "source": [
        "import numpy as np\n",
        "from sklearn.metrics import classification_report, confusion_matrix\n",
        "import seaborn as sns\n",
        "import matplotlib.pyplot as plt\n",
        "\n",
        "# 예측 확률 → 예측 클래스\n",
        "y_pred_probs = model.predict(test_gen)\n",
        "y_pred = np.argmax(y_pred_probs, axis=1)\n",
        "\n",
        "# 실제 클래스\n",
        "y_true = test_gen.classes\n",
        "\n",
        "# 클래스 이름\n",
        "class_names = list(test_gen.class_indices.keys())\n",
        "\n",
        "# 📌 classification report\n",
        "print(\"\\n📄 Classification Report:\")\n",
        "print(classification_report(y_true, y_pred, target_names=class_names))\n",
        "\n",
        "# 📌 confusion matrix 시각화\n",
        "cm = confusion_matrix(y_true, y_pred)\n",
        "plt.figure(figsize=(8, 6))\n",
        "sns.heatmap(cm, annot=True, fmt='d', cmap='Blues', xticklabels=class_names, yticklabels=class_names)\n",
        "plt.title('Confusion Matrix')\n",
        "plt.ylabel('True Label')\n",
        "plt.xlabel('Predicted Label')\n",
        "plt.show()\n"
      ]
    },
    {
      "cell_type": "code",
      "execution_count": null,
      "metadata": {
        "id": "_Y7uHAEjyKvr"
      },
      "outputs": [],
      "source": [
        "from tensorflow.keras.preprocessing import image\n",
        "import os\n",
        "\n",
        "blind_dir = '/content/drive/MyDrive'  # 경로 수정\n",
        "blind_filenames = [os.path.join(blind_dir, fname) for fname in os.listdir(blind_dir)\n",
        "                   if fname.lower().endswith(('.jpg', '.jpeg', '.png'))]\n",
        "\n",
        "# 이미지 로딩 및 전처리\n",
        "def preprocess_image(img_path):\n",
        "    img = image.load_img(img_path, target_size=(224, 224))\n",
        "    img_array = image.img_to_array(img) / 255.0\n",
        "    return img_array\n",
        "\n",
        "X_blind = np.array([preprocess_image(path) for path in blind_filenames])\n",
        "pred_probs = model.predict(X_blind)\n",
        "pred_classes = np.argmax(pred_probs, axis=1)\n",
        "\n",
        "# 클래스명 디코딩\n",
        "idx_to_class = {v: k for k, v in test_gen.class_indices.items()}\n",
        "pred_labels = [idx_to_class[i] for i in pred_classes]\n",
        "\n",
        "# 결과 매핑\n",
        "results = pd.DataFrame({\n",
        "    'filename': blind_filenames,\n",
        "    'predicted_label': pred_labels\n",
        "})\n",
        "\n",
        "print(results.head())\n"
      ]
    },
    {
      "cell_type": "code",
      "source": [
        "# 전체 ConvNeXt의 일부 layer를 unfreeze\n",
        "base_model.trainable = True\n",
        "for layer in base_model.layers[:-30]:  # 뒤에서 30개만 학습\n",
        "    layer.trainable = False\n",
        "\n",
        "# 학습률 낮춰서 compile\n",
        "model.compile(optimizer=Adam(1e-5), loss='categorical_crossentropy', metrics=['accuracy'])\n",
        "\n",
        "# 다시 학습\n",
        "model.fit(train_gen, validation_data=val_gen, epochs=10, class_weight=class_weights_dict, callbacks=callbacks)\n"
      ],
      "metadata": {
        "id": "rouHAHPqsuoY",
        "colab": {
          "base_uri": "https://localhost:8080/"
        },
        "outputId": "38b4c20f-2418-40c5-946e-48f7fedfd5f6"
      },
      "execution_count": null,
      "outputs": [
        {
          "output_type": "stream",
          "name": "stdout",
          "text": [
            "Epoch 1/10\n",
            "\u001b[1m107/814\u001b[0m \u001b[32m━━\u001b[0m\u001b[37m━━━━━━━━━━━━━━━━━━\u001b[0m \u001b[1m7:23\u001b[0m 628ms/step - accuracy: 0.4243 - loss: 1.6488"
          ]
        }
      ]
    },
    {
      "cell_type": "code",
      "source": [
        "# test_gen은 ImageDataGenerator에서 만든 test generator라고 가정\n",
        "test_loss, test_acc = model.evaluate(test_gen)\n",
        "print(f\"✅ Test Accuracy: {test_acc:.4f}, Test Loss: {test_loss:.4f}\")\n"
      ],
      "metadata": {
        "id": "x_d2S3iyAuO1"
      },
      "execution_count": null,
      "outputs": []
    },
    {
      "cell_type": "code",
      "source": [
        "# 예측 확률\n",
        "y_pred_proba = model.predict(test_gen)\n",
        "\n",
        "# 다중 클래스니까 argmax로 실제 클래스 예측\n",
        "y_pred = np.argmax(y_pred_proba, axis=1)\n",
        "\n",
        "# 실제 라벨\n",
        "y_true = test_gen.classes  # flow_from_dataframe 또는 flow_from_directory 사용 시 자동 포함\n",
        "\n",
        "# 라벨 인덱스 → 클래스 이름 매핑\n",
        "class_names = list(test_gen.class_indices.keys())\n",
        "\n",
        "# 분류 리포트\n",
        "print(classification_report(y_true, y_pred, target_names=class_names))\n",
        "\n",
        "# 혼동 행렬\n",
        "cm = confusion_matrix(y_true, y_pred)"
      ],
      "metadata": {
        "id": "vJdnqdnVBV5C"
      },
      "execution_count": null,
      "outputs": []
    },
    {
      "cell_type": "code",
      "source": [
        "plt.figure(figsize=(10, 8))\n",
        "sns.heatmap(cm, annot=True, fmt='d', cmap='Blues', xticklabels=class_names, yticklabels=class_names)\n",
        "plt.xlabel('Predicted')\n",
        "plt.ylabel('Actual')\n",
        "plt.title('Confusion Matrix')\n",
        "plt.show()"
      ],
      "metadata": {
        "id": "Y7mJW-diBYfZ"
      },
      "execution_count": null,
      "outputs": []
    },
    {
      "cell_type": "code",
      "source": [
        "from tensorflow.keras.preprocessing import image\n",
        "import os\n",
        "\n",
        "blind_dir = '/content/drive/MyDrive'  # 경로 수정\n",
        "blind_filenames = [os.path.join(blind_dir, fname) for fname in os.listdir(blind_dir)\n",
        "                   if fname.lower().endswith(('.jpg', '.jpeg', '.png'))]\n",
        "\n",
        "# 이미지 로딩 및 전처리\n",
        "def preprocess_image(img_path):\n",
        "    img = image.load_img(img_path, target_size=(224, 224))\n",
        "    img_array = image.img_to_array(img) / 255.0\n",
        "    return img_array\n",
        "\n",
        "X_blind = np.array([preprocess_image(path) for path in blind_filenames])\n",
        "pred_probs = model.predict(X_blind)\n",
        "pred_classes = np.argmax(pred_probs, axis=1)\n",
        "\n",
        "# 클래스명 디코딩\n",
        "idx_to_class = {v: k for k, v in test_gen.class_indices.items()}\n",
        "pred_labels = [idx_to_class[i] for i in pred_classes]\n",
        "\n",
        "# 결과 매핑\n",
        "results = pd.DataFrame({\n",
        "    'filename': blind_filenames,\n",
        "    'predicted_label': pred_labels\n",
        "})\n",
        "\n",
        "print(results.head())"
      ],
      "metadata": {
        "id": "bWEoC50dBdHr"
      },
      "execution_count": null,
      "outputs": []
    }
  ],
  "metadata": {
    "accelerator": "GPU",
    "colab": {
      "gpuType": "L4",
      "machine_shape": "hm",
      "provenance": [],
      "authorship_tag": "ABX9TyOeiR7/5nL6pSNAnk+7MT88",
      "include_colab_link": true
    },
    "kernelspec": {
      "display_name": "Python 3",
      "name": "python3"
    },
    "language_info": {
      "name": "python"
    }
  },
  "nbformat": 4,
  "nbformat_minor": 0
}