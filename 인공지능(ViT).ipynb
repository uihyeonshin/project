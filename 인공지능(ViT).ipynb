{
  "nbformat": 4,
  "nbformat_minor": 0,
  "metadata": {
    "colab": {
      "provenance": [],
      "gpuType": "A100",
      "machine_shape": "hm",
      "include_colab_link": true
    },
    "kernelspec": {
      "name": "python3",
      "display_name": "Python 3"
    },
    "language_info": {
      "name": "python"
    },
    "accelerator": "GPU"
  },
  "cells": [
    {
      "cell_type": "markdown",
      "metadata": {
        "id": "view-in-github",
        "colab_type": "text"
      },
      "source": [
        "<a href=\"https://colab.research.google.com/github/uihyeonshin/project/blob/main/%E1%84%8B%E1%85%B5%E1%86%AB%E1%84%80%E1%85%A9%E1%86%BC%E1%84%8C%E1%85%B5%E1%84%82%E1%85%B3%E1%86%BC(ViT).ipynb\" target=\"_parent\"><img src=\"https://colab.research.google.com/assets/colab-badge.svg\" alt=\"Open In Colab\"/></a>"
      ]
    },
    {
      "cell_type": "code",
      "execution_count": 1,
      "metadata": {
        "colab": {
          "base_uri": "https://localhost:8080/"
        },
        "outputId": "e3066aac-e28c-4201-c990-b6c89c07299b",
        "id": "iprMvJNcRqJR"
      },
      "outputs": [
        {
          "output_type": "stream",
          "name": "stdout",
          "text": [
            "Mounted at /content/drive\n"
          ]
        }
      ],
      "source": [
        "from google.colab import drive\n",
        "drive.mount('/content/drive')"
      ]
    },
    {
      "cell_type": "code",
      "execution_count": 2,
      "metadata": {
        "colab": {
          "base_uri": "https://localhost:8080/"
        },
        "outputId": "3c82cebb-e8b8-4942-b57f-0eff1b07f34f",
        "id": "Rs8bXsiYRqJT"
      },
      "outputs": [
        {
          "output_type": "stream",
          "name": "stdout",
          "text": [
            "📦 Unzipping TS_멜라닌세포모반.zip -> /content/Training/images/TS_멜라닌세포모반\n",
            "📦 Unzipping TS_흑색점.zip -> /content/Training/images/TS_흑색점\n",
            "📦 Unzipping TS_피부섬유종.zip -> /content/Training/images/TS_피부섬유종\n",
            "📦 Unzipping TS_사마귀.zip -> /content/Training/images/TS_사마귀\n",
            "📦 Unzipping TS_혈관종.zip -> /content/Training/images/TS_혈관종\n",
            "📦 Unzipping TS_보웬병.zip -> /content/Training/images/TS_보웬병\n",
            "📦 Unzipping TS_표피낭종.zip -> /content/Training/images/TS_표피낭종\n",
            "📦 Unzipping TS_비립종.zip -> /content/Training/images/TS_비립종\n",
            "📦 Unzipping TS_화농 육아종.zip -> /content/Training/images/TS_화농 육아종\n",
            "📦 Unzipping TS_피지샘증식증.zip -> /content/Training/images/TS_피지샘증식증\n",
            "📦 Unzipping TS_악성흑색종.zip -> /content/Training/images/TS_악성흑색종\n",
            "📦 Unzipping TS_광선각화증.zip -> /content/Training/images/TS_광선각화증\n",
            "📦 Unzipping TS_지루각화증.zip -> /content/Training/images/TS_지루각화증\n",
            "📦 Unzipping TS_기저세포암.zip -> /content/Training/images/TS_기저세포암\n",
            "📦 Unzipping TS_편평세포암.zip -> /content/Training/images/TS_편평세포암\n",
            "📦 Unzipping TL_피지샘증식증.zip -> /content/Training/labels/TL_피지샘증식증\n",
            "📦 Unzipping TL_피부섬유종.zip -> /content/Training/labels/TL_피부섬유종\n",
            "📦 Unzipping TL_사마귀.zip -> /content/Training/labels/TL_사마귀\n",
            "📦 Unzipping TL_흑색점.zip -> /content/Training/labels/TL_흑색점\n",
            "📦 Unzipping TL_멜라닌세포모반.zip -> /content/Training/labels/TL_멜라닌세포모반\n",
            "📦 Unzipping TL_지루각화증.zip -> /content/Training/labels/TL_지루각화증\n",
            "📦 Unzipping TL_악성흑색종.zip -> /content/Training/labels/TL_악성흑색종\n",
            "📦 Unzipping TL_혈관종.zip -> /content/Training/labels/TL_혈관종\n",
            "📦 Unzipping TL_기저세포암.zip -> /content/Training/labels/TL_기저세포암\n",
            "📦 Unzipping TL_보웬병.zip -> /content/Training/labels/TL_보웬병\n",
            "📦 Unzipping TL_표피낭종.zip -> /content/Training/labels/TL_표피낭종\n",
            "📦 Unzipping TL_화농 육아종.zip -> /content/Training/labels/TL_화농 육아종\n",
            "📦 Unzipping TL_비립종.zip -> /content/Training/labels/TL_비립종\n",
            "📦 Unzipping TL_광선각화증.zip -> /content/Training/labels/TL_광선각화증\n",
            "📦 Unzipping TL_편평세포암.zip -> /content/Training/labels/TL_편평세포암\n"
          ]
        }
      ],
      "source": [
        "import zipfile\n",
        "import os\n",
        "\n",
        "# 원천데이터 압축 해제\n",
        "def unzip_all(zip_dir, extract_root):\n",
        "    os.makedirs(extract_root, exist_ok=True)\n",
        "    for zip_file in os.listdir(zip_dir):\n",
        "        if zip_file.endswith('.zip'):\n",
        "            label_name = zip_file.replace('.zip', '')\n",
        "            zip_path = os.path.join(zip_dir, zip_file)\n",
        "            extract_path = os.path.join(extract_root, label_name)\n",
        "            os.makedirs(extract_path, exist_ok=True)\n",
        "            print(f'📦 Unzipping {zip_file} -> {extract_path}')\n",
        "            with zipfile.ZipFile(zip_path, 'r') as zip_ref:\n",
        "                zip_ref.extractall(extract_path)\n",
        "\n",
        "# 경로 지정\n",
        "base_drive = '/content/drive/MyDrive/1.데이터'\n",
        "train_img_zip_dir = os.path.join(base_drive, 'Training/01.원천데이터')\n",
        "train_lbl_zip_dir = os.path.join(base_drive, 'Training/02.라벨링데이터')\n",
        "\n",
        "# 이미지와 라벨 압축 해제\n",
        "unzip_all(train_img_zip_dir, '/content/Training/images')\n",
        "unzip_all(train_lbl_zip_dir, '/content/Training/labels')\n"
      ]
    },
    {
      "cell_type": "code",
      "execution_count": 3,
      "metadata": {
        "colab": {
          "base_uri": "https://localhost:8080/"
        },
        "outputId": "0bdbef08-77e9-456f-e947-99c95b996d9d",
        "id": "ZxPs97PiRqJU"
      },
      "outputs": [
        {
          "output_type": "stream",
          "name": "stdout",
          "text": [
            "📦 Unzipping VS_멜라닌세포모반.zip -> /content/Validation/images/VS_멜라닌세포모반\n",
            "📦 Unzipping VS_흑색점.zip -> /content/Validation/images/VS_흑색점\n",
            "📦 Unzipping VS_사마귀.zip -> /content/Validation/images/VS_사마귀\n",
            "📦 Unzipping VS_피부섬유종.zip -> /content/Validation/images/VS_피부섬유종\n",
            "📦 Unzipping VS_혈관종.zip -> /content/Validation/images/VS_혈관종\n",
            "📦 Unzipping VS_보웬병.zip -> /content/Validation/images/VS_보웬병\n",
            "📦 Unzipping VS_비립종.zip -> /content/Validation/images/VS_비립종\n",
            "📦 Unzipping VS_표피낭종.zip -> /content/Validation/images/VS_표피낭종\n",
            "📦 Unzipping VS_화농 육아종.zip -> /content/Validation/images/VS_화농 육아종\n",
            "📦 Unzipping VS_피지샘증식증.zip -> /content/Validation/images/VS_피지샘증식증\n",
            "📦 Unzipping VS_광선각화증.zip -> /content/Validation/images/VS_광선각화증\n",
            "📦 Unzipping VS_지루각화증.zip -> /content/Validation/images/VS_지루각화증\n",
            "📦 Unzipping VS_악성흑색종.zip -> /content/Validation/images/VS_악성흑색종\n",
            "📦 Unzipping VS_기저세포암.zip -> /content/Validation/images/VS_기저세포암\n",
            "📦 Unzipping VS_편평세포암.zip -> /content/Validation/images/VS_편평세포암\n",
            "📦 Unzipping VL_지루각화증.zip -> /content/Validation/labels/VL_지루각화증\n",
            "📦 Unzipping VL_피부섬유종.zip -> /content/Validation/labels/VL_피부섬유종\n",
            "📦 Unzipping VL_피지샘증식증.zip -> /content/Validation/labels/VL_피지샘증식증\n",
            "📦 Unzipping VL_혈관종.zip -> /content/Validation/labels/VL_혈관종\n",
            "📦 Unzipping VL_보웬병.zip -> /content/Validation/labels/VL_보웬병\n",
            "📦 Unzipping VL_비립종.zip -> /content/Validation/labels/VL_비립종\n",
            "📦 Unzipping VL_흑색점.zip -> /content/Validation/labels/VL_흑색점\n",
            "📦 Unzipping VL_악성흑색종.zip -> /content/Validation/labels/VL_악성흑색종\n",
            "📦 Unzipping VL_편평세포암.zip -> /content/Validation/labels/VL_편평세포암\n",
            "📦 Unzipping VL_멜라닌세포모반.zip -> /content/Validation/labels/VL_멜라닌세포모반\n",
            "📦 Unzipping VL_화농 육아종.zip -> /content/Validation/labels/VL_화농 육아종\n",
            "📦 Unzipping VL_광선각화증.zip -> /content/Validation/labels/VL_광선각화증\n",
            "📦 Unzipping VL_기저세포암.zip -> /content/Validation/labels/VL_기저세포암\n",
            "📦 Unzipping VL_표피낭종.zip -> /content/Validation/labels/VL_표피낭종\n",
            "📦 Unzipping VL_사마귀.zip -> /content/Validation/labels/VL_사마귀\n"
          ]
        }
      ],
      "source": [
        "# ── Validation ──\n",
        "val_img_zip_dir = os.path.join(base_drive, 'Validation/01.원천데이터')\n",
        "val_lbl_zip_dir = os.path.join(base_drive, 'Validation/02.라벨링데이터')\n",
        "unzip_all(val_img_zip_dir, '/content/Validation/images')\n",
        "unzip_all(val_lbl_zip_dir, '/content/Validation/labels')"
      ]
    },
    {
      "cell_type": "code",
      "execution_count": 4,
      "metadata": {
        "id": "eEH3m7mvRqJV"
      },
      "outputs": [],
      "source": [
        "import json\n",
        "import os\n",
        "import pandas as pd\n",
        "import unicodedata\n",
        "import unicodedata\n",
        "\n",
        "def parse_label_jsons_TS(json_root, image_root, prefix='TS_'):\n",
        "    data = []\n",
        "\n",
        "    for class_folder in os.listdir(json_root):\n",
        "        class_path = os.path.join(json_root, class_folder)\n",
        "        if not os.path.isdir(class_path):\n",
        "            continue\n",
        "\n",
        "        for file in os.listdir(class_path):\n",
        "            if file.endswith('.json'):\n",
        "                with open(os.path.join(class_path, file), 'r') as f:\n",
        "                    jdata = json.load(f)\n",
        "                    for ann in jdata['annotations']:\n",
        "                        label = ann['diagnosis_info']['diagnosis_name']\n",
        "                        filename = os.path.basename(ann['photograph']['file_path'])\n",
        "\n",
        "                        # ✅ NFC 정규화로 변경\n",
        "                        foldername = unicodedata.normalize('NFD', f'{prefix}{label}')\n",
        "                        img_path = os.path.join(image_root, foldername, filename)\n",
        "                        data.append({'filename': img_path, 'label': label})\n",
        "\n",
        "    return pd.DataFrame(data)\n",
        "\n",
        "def parse_label_jsons_VS(json_root, image_root, prefix='VS_'):\n",
        "    data = []\n",
        "\n",
        "    for class_folder in os.listdir(json_root):\n",
        "        class_path = os.path.join(json_root, class_folder)\n",
        "        if not os.path.isdir(class_path):\n",
        "            continue\n",
        "\n",
        "        for file in os.listdir(class_path):\n",
        "            if file.endswith('.json'):\n",
        "                with open(os.path.join(class_path, file), 'r') as f:\n",
        "                    jdata = json.load(f)\n",
        "                    for ann in jdata['annotations']:\n",
        "                        label = ann['diagnosis_info']['diagnosis_name']\n",
        "                        filename = os.path.basename(ann['photograph']['file_path'])\n",
        "\n",
        "                        # ✅ NFC 정규화로 변경\n",
        "                        foldername = unicodedata.normalize('NFD', f'{prefix}{label}')\n",
        "                        img_path = os.path.join(image_root, foldername, filename)\n",
        "                        data.append({'filename': img_path, 'label': label})\n",
        "\n",
        "    return pd.DataFrame(data)\n"
      ]
    },
    {
      "cell_type": "code",
      "execution_count": 5,
      "metadata": {
        "id": "nd8y7v_yRqJV"
      },
      "outputs": [],
      "source": [
        "# Training (prefix = 'TS_')\n",
        "train_df = parse_label_jsons_TS(\n",
        "    json_root='/content/Training/labels',\n",
        "    image_root='/content/Training/images',\n",
        "    prefix='TS_'\n",
        ")\n",
        "\n",
        "val_df = parse_label_jsons_VS(\n",
        "    json_root='/content/Validation/labels',\n",
        "    image_root='/content/Validation/images',\n",
        "    prefix='VS_'\n",
        ")\n"
      ]
    },
    {
      "cell_type": "code",
      "execution_count": 6,
      "metadata": {
        "colab": {
          "base_uri": "https://localhost:8080/"
        },
        "outputId": "00aa2a8b-3d5f-4366-ce1c-0e93a22fa832",
        "id": "TsXJGrsJRqJW"
      },
      "outputs": [
        {
          "output_type": "stream",
          "name": "stdout",
          "text": [
            "/content/Training/images/TS_피지샘증식증/Z4_67288_P0_L0.png\n",
            "True\n",
            "/content/Validation/images/VS_흑색점/Z4_51349_P0_L0.png\n",
            "True\n"
          ]
        }
      ],
      "source": [
        "print(train_df['filename'].iloc[0])\n",
        "print(os.path.exists(train_df['filename'].iloc[0]))  # ✅ 이제 True 떠야 함!\n",
        "\n",
        "print(val_df['filename'].iloc[0])\n",
        "print(os.path.exists(val_df['filename'].iloc[0]))  # ✅ 이제 True 떠야 함!"
      ]
    },
    {
      "cell_type": "code",
      "execution_count": 7,
      "metadata": {
        "id": "PjYhoUmrjSeE"
      },
      "outputs": [],
      "source": [
        "# 한글 → 영어 라벨 매핑 딕셔너리\n",
        "label_kor2eng = {\n",
        "    '광선각화증': 'Actinic keratosis',\n",
        "    '기저세포암': 'Basal cell carcinoma',\n",
        "    '지루각화증': 'Benign keratosis',\n",
        "    '피부섬유종': 'Dermatofibroma',\n",
        "    '멜라닌세포모반': 'Melanocytic nevus',\n",
        "    '악성흑색종': 'Melanoma',\n",
        "    '편평세포암': 'Squamous cell carcinoma',\n",
        "    '혈관종': 'Vascular lesion'\n",
        "}"
      ]
    },
    {
      "cell_type": "code",
      "execution_count": 8,
      "metadata": {
        "colab": {
          "base_uri": "https://localhost:8080/"
        },
        "id": "ftf0ugCwjUWq",
        "outputId": "76a66d5f-a9c1-4b51-8137-ffb4070013d7"
      },
      "outputs": [
        {
          "output_type": "stream",
          "name": "stdout",
          "text": [
            "✔️ 변환 후 train_df 라벨 분포:\n",
            "label\n",
            "Benign keratosis           800\n",
            "Actinic keratosis          800\n",
            "Melanocytic nevus          800\n",
            "Squamous cell carcinoma    800\n",
            "Vascular lesion            800\n",
            "Basal cell carcinoma       800\n",
            "Melanoma                   800\n",
            "Dermatofibroma             800\n",
            "Name: count, dtype: int64\n",
            "\n",
            "✔️ 변환 후 val_df 라벨 분포:\n",
            "label\n",
            "Melanoma                   100\n",
            "Vascular lesion            100\n",
            "Benign keratosis           100\n",
            "Squamous cell carcinoma    100\n",
            "Melanocytic nevus          100\n",
            "Actinic keratosis          100\n",
            "Basal cell carcinoma       100\n",
            "Dermatofibroma             100\n",
            "Name: count, dtype: int64\n"
          ]
        }
      ],
      "source": [
        "# 영어 라벨만 남기기 위한 target 클래스 리스트\n",
        "target_labels = list(label_kor2eng.values())\n",
        "\n",
        "# 1. 라벨 영어로 변환\n",
        "train_df['label'] = train_df['label'].map(label_kor2eng)\n",
        "val_df['label'] = val_df['label'].map(label_kor2eng)\n",
        "\n",
        "# 2. 매핑 안된 라벨 (NaN) 제거 → 즉, 타겟 클래스 외 제거\n",
        "train_df = train_df.dropna(subset=['label'])\n",
        "val_df = val_df.dropna(subset=['label'])\n",
        "\n",
        "# 결과 확인\n",
        "print(\"✔️ 변환 후 train_df 라벨 분포:\")\n",
        "print(train_df['label'].value_counts())\n",
        "print(\"\\n✔️ 변환 후 val_df 라벨 분포:\")\n",
        "print(val_df['label'].value_counts())"
      ]
    },
    {
      "cell_type": "code",
      "execution_count": 9,
      "metadata": {
        "colab": {
          "base_uri": "https://localhost:8080/"
        },
        "outputId": "3bea631d-35b3-4081-97e1-3e9ed7d9ed54",
        "id": "PP7C2mWuRqJX"
      },
      "outputs": [
        {
          "output_type": "stream",
          "name": "stdout",
          "text": [
            "/content/Training/images/TS_지루각화증/Z4_29011_P0_L0.png\n",
            "True\n",
            "['Benign keratosis' 'Actinic keratosis' 'Melanocytic nevus'\n",
            " 'Squamous cell carcinoma' 'Vascular lesion' 'Basal cell carcinoma'\n",
            " 'Melanoma' 'Dermatofibroma']\n",
            "filename    0\n",
            "label       0\n",
            "dtype: int64\n"
          ]
        }
      ],
      "source": [
        "print(train_df['filename'].iloc[0])\n",
        "print(os.path.exists(train_df['filename'].iloc[0]))\n",
        "\n",
        "print(train_df['label'].unique())  # 라벨 이상 없는지\n",
        "print(train_df.isnull().sum())    # 결측치 있는지\n"
      ]
    },
    {
      "cell_type": "code",
      "execution_count": 10,
      "metadata": {
        "colab": {
          "base_uri": "https://localhost:8080/"
        },
        "id": "TYc-vuymj8Aa",
        "outputId": "0453a6d4-6131-4233-a374-a94f9593b469"
      },
      "outputs": [
        {
          "output_type": "stream",
          "name": "stdout",
          "text": [
            "✅ 압축 해제 완료: /content/image\n"
          ]
        }
      ],
      "source": [
        "# 1. 압축 해제\n",
        "zip_path = '/content/drive/MyDrive/image/archive.zip'\n",
        "extract_dir = '/content/image'\n",
        "\n",
        "with zipfile.ZipFile(zip_path, 'r') as zip_ref:\n",
        "    zip_ref.extractall(extract_dir)\n",
        "\n",
        "print(f\"✅ 압축 해제 완료: {extract_dir}\")"
      ]
    },
    {
      "cell_type": "code",
      "execution_count": 11,
      "metadata": {
        "colab": {
          "base_uri": "https://localhost:8080/"
        },
        "id": "RJ-wRs4mlSN7",
        "outputId": "0a019240-6869-4131-f9d8-1b2226aa1149"
      },
      "outputs": [
        {
          "output_type": "stream",
          "name": "stdout",
          "text": [
            "                                            filename     label\n",
            "0  /content/image/ISIC_Labelled/Melanoma/ISIC_003...  Melanoma\n",
            "1  /content/image/ISIC_Labelled/Melanoma/ISIC_006...  Melanoma\n",
            "2  /content/image/ISIC_Labelled/Melanoma/ISIC_005...  Melanoma\n",
            "3  /content/image/ISIC_Labelled/Melanoma/ISIC_006...  Melanoma\n",
            "4  /content/image/ISIC_Labelled/Melanoma/ISIC_006...  Melanoma\n",
            "\n",
            "✅ 총 이미지 수: 25331\n",
            "📊 클래스 수: 8\n",
            "🧷 클래스 목록: ['Melanoma' 'Melanocytic nevus' 'Vascular lesion' 'Dermatofibroma'\n",
            " 'Actinic keratosis' 'Squamous cell carcinoma' 'Basal cell carcinoma'\n",
            " 'Benign keratosis']\n"
          ]
        }
      ],
      "source": [
        "image_root1 = '/content/image/ISIC_Labelled'\n",
        "data = []\n",
        "\n",
        "for label in os.listdir(image_root1):\n",
        "    label_path = os.path.join(image_root1, label)\n",
        "    if os.path.isdir(label_path):\n",
        "        for fname in os.listdir(label_path):\n",
        "            if fname.lower().endswith(('.jpg', '.jpeg', '.png')):\n",
        "                fpath = os.path.join(label_path, fname)  # 🔥 여기 핵심\n",
        "                data.append({'filename': fpath, 'label': label})\n",
        "\n",
        "df_isic = pd.DataFrame(data)\n",
        "\n",
        "# 확인\n",
        "print(df_isic.head())\n",
        "print(f\"\\n✅ 총 이미지 수: {len(df_isic)}\")\n",
        "print(f\"📊 클래스 수: {df_isic['label'].nunique()}\")\n",
        "print(f\"🧷 클래스 목록: {df_isic['label'].unique()}\")\n",
        "\n"
      ]
    },
    {
      "cell_type": "code",
      "source": [
        "full_ddf = pd.concat([train_df, val_df, df_isic], ignore_index=True)\n",
        "print(f\"🔄 전체 데이터 수: {len(full_ddf)}\")\n",
        "print(full_ddf['label'].value_counts())\n"
      ],
      "metadata": {
        "colab": {
          "base_uri": "https://localhost:8080/"
        },
        "id": "FDwBs9nuygnO",
        "outputId": "bbb22bc9-67ce-4a2e-942a-589503d1f24f"
      },
      "execution_count": 12,
      "outputs": [
        {
          "output_type": "stream",
          "name": "stdout",
          "text": [
            "🔄 전체 데이터 수: 32531\n",
            "label\n",
            "Melanocytic nevus          13775\n",
            "Melanoma                    5422\n",
            "Basal cell carcinoma        4223\n",
            "Benign keratosis            3524\n",
            "Actinic keratosis           1767\n",
            "Squamous cell carcinoma     1528\n",
            "Vascular lesion             1153\n",
            "Dermatofibroma              1139\n",
            "Name: count, dtype: int64\n"
          ]
        }
      ]
    },
    {
      "cell_type": "code",
      "execution_count": 13,
      "metadata": {
        "colab": {
          "base_uri": "https://localhost:8080/"
        },
        "id": "Ootz1DvgxR4L",
        "outputId": "b25c7e64-f7ca-4591-aa1a-a5356a2af419"
      },
      "outputs": [
        {
          "output_type": "stream",
          "name": "stdout",
          "text": [
            "Train: 26024개, Val: 3253개, Test: 3254개\n"
          ]
        }
      ],
      "source": [
        "from sklearn.model_selection import train_test_split\n",
        "from sklearn.utils import class_weight\n",
        "import numpy as np\n",
        "\n",
        "# Train 80% / Temp 20%\n",
        "train_df, temp_df = train_test_split(\n",
        "    full_ddf, test_size=0.2, stratify=full_ddf['label'], random_state=42\n",
        ")\n",
        "\n",
        "# Temp → Validation 10% / Test 10%\n",
        "val_df, test_df = train_test_split(\n",
        "    temp_df, test_size=0.5, stratify=temp_df['label'], random_state=42\n",
        ")\n",
        "\n",
        "print(f\"Train: {len(train_df)}개, Val: {len(val_df)}개, Test: {len(test_df)}개\")\n",
        "\n",
        "# 2. class_weight 계산\n",
        "class_weights = class_weight.compute_class_weight(\n",
        "    class_weight='balanced',\n",
        "    classes=np.unique(train_df['label']),\n",
        "    y=train_df['label']\n",
        ")\n",
        "class_weights_dict = dict(zip(np.unique(train_df['label']), class_weights))\n",
        "\n"
      ]
    },
    {
      "cell_type": "code",
      "execution_count": 14,
      "metadata": {
        "colab": {
          "base_uri": "https://localhost:8080/"
        },
        "outputId": "7c62ec46-528f-4303-9983-9f14eee35169",
        "id": "0qkuJgHjRqJZ"
      },
      "outputs": [
        {
          "output_type": "stream",
          "name": "stdout",
          "text": [
            "Found 26024 validated image filenames belonging to 8 classes.\n",
            "Found 3253 validated image filenames belonging to 8 classes.\n",
            "Found 3254 validated image filenames belonging to 8 classes.\n"
          ]
        }
      ],
      "source": [
        "# 5. ImageDataGenerator\n",
        "from tensorflow.keras.preprocessing.image import ImageDataGenerator\n",
        "\n",
        "datagen = ImageDataGenerator(rescale=1./255)\n",
        "\n",
        "train_datagen = ImageDataGenerator(\n",
        "    rescale=1./255,\n",
        "    rotation_range=45,\n",
        "    zoom_range=0.3,\n",
        "    width_shift_range=0.2,\n",
        "    height_shift_range=0.2,\n",
        "    shear_range=0.2,\n",
        "    horizontal_flip=True,\n",
        "    fill_mode='nearest'\n",
        ")\n",
        "\n",
        "train_gen = train_datagen.flow_from_dataframe(\n",
        "    train_df, x_col='filename', y_col='label',\n",
        "    target_size=(224, 224), class_mode='categorical',\n",
        "    batch_size=32, shuffle=True\n",
        ")\n",
        "val_gen = datagen.flow_from_dataframe(\n",
        "    val_df, x_col='filename', y_col='label',\n",
        "    target_size=(224, 224), class_mode='categorical',\n",
        "    batch_size=32, shuffle=False\n",
        ")\n",
        "test_gen = datagen.flow_from_dataframe(\n",
        "    test_df, x_col='filename', y_col='label',\n",
        "    target_size=(224, 224), class_mode='categorical',\n",
        "    batch_size=32, shuffle=False\n",
        ")"
      ]
    },
    {
      "cell_type": "code",
      "execution_count": 15,
      "metadata": {
        "colab": {
          "base_uri": "https://localhost:8080/"
        },
        "id": "h3laqaZYnWZN",
        "outputId": "f594d1be-c9c1-4ca6-978c-817c0e976e96"
      },
      "outputs": [
        {
          "output_type": "stream",
          "name": "stdout",
          "text": [
            "                                                filename                 label\n",
            "15297  /content/image/ISIC_Labelled/Melanocytic nevus...     Melanocytic nevus\n",
            "24665  /content/image/ISIC_Labelled/Vascular lesion/I...       Vascular lesion\n",
            "14027  /content/image/ISIC_Labelled/Melanocytic nevus...     Melanocytic nevus\n",
            "23840  /content/image/ISIC_Labelled/Melanocytic nevus...     Melanocytic nevus\n",
            "28631  /content/image/ISIC_Labelled/Basal cell carcin...  Basal cell carcinoma\n",
            "/content/image/ISIC_Labelled/Melanocytic nevus/ISIC_0032041.jpg\n",
            "True\n"
          ]
        },
        {
          "output_type": "execute_result",
          "data": {
            "text/plain": [
              "np.int64(26024)"
            ]
          },
          "metadata": {},
          "execution_count": 15
        }
      ],
      "source": [
        "print(train_df.head())\n",
        "print(train_df['filename'].iloc[0])\n",
        "print(os.path.exists(train_df['filename'].iloc[0]))\n",
        "train_df['filename'].apply(os.path.exists).sum()\n"
      ]
    },
    {
      "cell_type": "code",
      "source": [
        "!pip install -q tensorflow tensorflow-addons"
      ],
      "metadata": {
        "id": "WnzYidYrdd0T",
        "colab": {
          "base_uri": "https://localhost:8080/"
        },
        "outputId": "4213f80a-2c3a-465f-8a8e-fd45f6a155ee"
      },
      "execution_count": 16,
      "outputs": [
        {
          "output_type": "stream",
          "name": "stdout",
          "text": [
            "\u001b[?25l   \u001b[90m━━━━━━━━━━━━━━━━━━━━━━━━━━━━━━━━━━━━━━━━\u001b[0m \u001b[32m0.0/611.8 kB\u001b[0m \u001b[31m?\u001b[0m eta \u001b[36m-:--:--\u001b[0m\r\u001b[2K   \u001b[90m━━━━━━━━━━━━━━━━━━━━━━━━━━━━━━━━━━━━━━━━\u001b[0m \u001b[32m611.8/611.8 kB\u001b[0m \u001b[31m31.0 MB/s\u001b[0m eta \u001b[36m0:00:00\u001b[0m\n",
            "\u001b[?25h\u001b[31mERROR: pip's dependency resolver does not currently take into account all the packages that are installed. This behaviour is the source of the following dependency conflicts.\n",
            "inflect 7.5.0 requires typeguard>=4.0.1, but you have typeguard 2.13.3 which is incompatible.\u001b[0m\u001b[31m\n",
            "\u001b[0m"
          ]
        }
      ]
    },
    {
      "cell_type": "code",
      "source": [
        "from PIL import ImageFile\n",
        "ImageFile.LOAD_TRUNCATED_IMAGES = True  # ✅ 손상된 이미지도 무시하고 불러오기"
      ],
      "metadata": {
        "id": "0WyqqCOlzIzN"
      },
      "execution_count": 17,
      "outputs": []
    },
    {
      "cell_type": "code",
      "source": [
        "\n",
        "import tensorflow as tf\n",
        "import tensorflow_hub as hub\n",
        "from tensorflow.keras.models import Model\n",
        "from tensorflow.keras.layers import Input, Dense, Dropout, Flatten, Lambda\n",
        "from tensorflow.keras.optimizers import Adam\n",
        "from tensorflow.keras.callbacks import EarlyStopping, ModelCheckpoint\n",
        "\n",
        "# 클래스 수 자동 계산\n",
        "num_classes = len(train_gen.class_indices)\n",
        "\n",
        "# 입력 정의\n",
        "input_layer = Input(shape=(224, 224, 3), name='input_image')\n",
        "\n",
        "# ViT 모델을 Lambda로 감싸서 처리\n",
        "vit_extractor = hub.KerasLayer(\n",
        "    \"https://tfhub.dev/sayakpaul/vit_b16_fe/1\",\n",
        "    trainable=False\n",
        ")\n",
        "\n",
        "# Lambda로 감싸기 (Symbolic Tensor 대응)\n",
        "vit_features = Lambda(lambda x: vit_extractor(x))(input_layer)\n",
        "\n",
        "# 분류기 정의\n",
        "x = Flatten()(vit_features)\n",
        "x = Dense(512, activation='relu')(x)\n",
        "x = Dropout(0.5)(x)\n",
        "x = Dense(256, activation='relu')(x)\n",
        "x = Dropout(0.3)(x)\n",
        "output_layer = Dense(num_classes, activation='softmax')(x)\n",
        "\n",
        "# 모델 구성\n",
        "model = Model(inputs=input_layer, outputs=output_layer)\n",
        "\n",
        "# 컴파일\n",
        "from tensorflow.keras.optimizers import AdamW\n",
        "model.compile(optimizer=AdamW(learning_rate=1e-4, weight_decay=1e-5),\n",
        "              loss='categorical_crossentropy',\n",
        "              metrics=['accuracy'])\n",
        "# 4. 콜백\n",
        "callbacks = [\n",
        "    EarlyStopping(patience=5, restore_best_weights=True),\n",
        "    ModelCheckpoint('convnext_best.keras', save_best_only=True, monitor='val_accuracy')\n",
        "]\n",
        "\n",
        "# 학습\n",
        "history = model.fit(\n",
        "    train_gen,\n",
        "    epochs=10,\n",
        "    validation_data=val_gen,\n",
        "    class_weight=class_weights_dict,\n",
        "    callbacks=callbacks\n",
        ")\n"
      ],
      "metadata": {
        "colab": {
          "base_uri": "https://localhost:8080/"
        },
        "id": "kL1qxanJgB9B",
        "outputId": "fb9f897a-6725-42d3-a730-c680944dcec5"
      },
      "execution_count": 18,
      "outputs": [
        {
          "output_type": "stream",
          "name": "stderr",
          "text": [
            "/usr/local/lib/python3.11/dist-packages/keras/src/trainers/data_adapters/py_dataset_adapter.py:121: UserWarning: Your `PyDataset` class should call `super().__init__(**kwargs)` in its constructor. `**kwargs` can include `workers`, `use_multiprocessing`, `max_queue_size`. Do not pass these arguments to `fit()`, as they will be ignored.\n",
            "  self._warn_if_super_not_called()\n"
          ]
        },
        {
          "output_type": "stream",
          "name": "stdout",
          "text": [
            "Epoch 1/10\n",
            "\u001b[1m814/814\u001b[0m \u001b[32m━━━━━━━━━━━━━━━━━━━━\u001b[0m\u001b[37m\u001b[0m \u001b[1m548s\u001b[0m 645ms/step - accuracy: 0.4751 - loss: 1.7050 - val_accuracy: 0.7006 - val_loss: 0.8635\n",
            "Epoch 2/10\n",
            "\u001b[1m814/814\u001b[0m \u001b[32m━━━━━━━━━━━━━━━━━━━━\u001b[0m\u001b[37m\u001b[0m \u001b[1m494s\u001b[0m 607ms/step - accuracy: 0.6743 - loss: 0.9311 - val_accuracy: 0.7261 - val_loss: 0.7734\n",
            "Epoch 3/10\n",
            "\u001b[1m814/814\u001b[0m \u001b[32m━━━━━━━━━━━━━━━━━━━━\u001b[0m\u001b[37m\u001b[0m \u001b[1m496s\u001b[0m 609ms/step - accuracy: 0.7105 - loss: 0.8240 - val_accuracy: 0.7396 - val_loss: 0.7399\n",
            "Epoch 4/10\n",
            "\u001b[1m814/814\u001b[0m \u001b[32m━━━━━━━━━━━━━━━━━━━━\u001b[0m\u001b[37m\u001b[0m \u001b[1m494s\u001b[0m 606ms/step - accuracy: 0.7187 - loss: 0.7924 - val_accuracy: 0.7532 - val_loss: 0.7073\n",
            "Epoch 5/10\n",
            "\u001b[1m814/814\u001b[0m \u001b[32m━━━━━━━━━━━━━━━━━━━━\u001b[0m\u001b[37m\u001b[0m \u001b[1m493s\u001b[0m 605ms/step - accuracy: 0.7358 - loss: 0.7387 - val_accuracy: 0.7504 - val_loss: 0.6959\n",
            "Epoch 6/10\n",
            "\u001b[1m814/814\u001b[0m \u001b[32m━━━━━━━━━━━━━━━━━━━━\u001b[0m\u001b[37m\u001b[0m \u001b[1m495s\u001b[0m 608ms/step - accuracy: 0.7379 - loss: 0.7273 - val_accuracy: 0.7624 - val_loss: 0.6620\n",
            "Epoch 7/10\n",
            "\u001b[1m814/814\u001b[0m \u001b[32m━━━━━━━━━━━━━━━━━━━━\u001b[0m\u001b[37m\u001b[0m \u001b[1m492s\u001b[0m 605ms/step - accuracy: 0.7481 - loss: 0.6989 - val_accuracy: 0.7664 - val_loss: 0.6531\n",
            "Epoch 8/10\n",
            "\u001b[1m814/814\u001b[0m \u001b[32m━━━━━━━━━━━━━━━━━━━━\u001b[0m\u001b[37m\u001b[0m \u001b[1m495s\u001b[0m 608ms/step - accuracy: 0.7559 - loss: 0.6796 - val_accuracy: 0.7615 - val_loss: 0.6481\n",
            "Epoch 9/10\n",
            "\u001b[1m814/814\u001b[0m \u001b[32m━━━━━━━━━━━━━━━━━━━━\u001b[0m\u001b[37m\u001b[0m \u001b[1m495s\u001b[0m 608ms/step - accuracy: 0.7647 - loss: 0.6583 - val_accuracy: 0.7535 - val_loss: 0.6787\n",
            "Epoch 10/10\n",
            "\u001b[1m814/814\u001b[0m \u001b[32m━━━━━━━━━━━━━━━━━━━━\u001b[0m\u001b[37m\u001b[0m \u001b[1m502s\u001b[0m 616ms/step - accuracy: 0.7655 - loss: 0.6463 - val_accuracy: 0.7654 - val_loss: 0.6400\n"
          ]
        }
      ]
    },
    {
      "cell_type": "code",
      "source": [
        "# Test Set 평가\n",
        "test_loss, test_acc = model.evaluate(test_gen)\n",
        "print(f\"✅ Test Accuracy: {test_acc:.4f}, Test Loss: {test_loss:.4f}\")\n"
      ],
      "metadata": {
        "colab": {
          "base_uri": "https://localhost:8080/"
        },
        "outputId": "8a770883-c7e2-48e4-efa7-c25a118a405b",
        "id": "nGIEyMOjgkR0"
      },
      "execution_count": 19,
      "outputs": [
        {
          "output_type": "stream",
          "name": "stdout",
          "text": [
            "\u001b[1m102/102\u001b[0m \u001b[32m━━━━━━━━━━━━━━━━━━━━\u001b[0m\u001b[37m\u001b[0m \u001b[1m41s\u001b[0m 398ms/step - accuracy: 0.7701 - loss: 0.6547\n",
            "✅ Test Accuracy: 0.7680, Test Loss: 0.6487\n"
          ]
        }
      ]
    },
    {
      "cell_type": "code",
      "source": [
        "import numpy as np\n",
        "from sklearn.metrics import classification_report, confusion_matrix\n",
        "import seaborn as sns\n",
        "import matplotlib.pyplot as plt\n",
        "\n",
        "# 예측 확률\n",
        "y_pred_proba = model.predict(test_gen)\n",
        "y_pred = np.argmax(y_pred_proba, axis=1)\n",
        "\n",
        "# 실제 라벨\n",
        "y_true = test_gen.classes  # ⬅️ flow_from_dataframe 생성 시 자동 포함\n",
        "\n",
        "# 라벨 인덱스 → 클래스 이름 매핑\n",
        "class_names = list(test_gen.class_indices.keys())\n",
        "\n",
        "# 분류 리포트\n",
        "print(\"\\n📄 Classification Report:\")\n",
        "print(classification_report(y_true, y_pred, target_names=class_names))\n"
      ],
      "metadata": {
        "colab": {
          "base_uri": "https://localhost:8080/"
        },
        "outputId": "eb46c725-0351-4e64-a65a-62641738d9d2",
        "id": "b13RovgUgkR0"
      },
      "execution_count": 20,
      "outputs": [
        {
          "output_type": "stream",
          "name": "stdout",
          "text": [
            "\u001b[1m102/102\u001b[0m \u001b[32m━━━━━━━━━━━━━━━━━━━━\u001b[0m\u001b[37m\u001b[0m \u001b[1m36s\u001b[0m 311ms/step\n",
            "\n",
            "📄 Classification Report:\n",
            "                         precision    recall  f1-score   support\n",
            "\n",
            "      Actinic keratosis       0.77      0.58      0.66       176\n",
            "   Basal cell carcinoma       0.73      0.76      0.75       423\n",
            "       Benign keratosis       0.54      0.69      0.60       353\n",
            "         Dermatofibroma       0.99      0.81      0.89       114\n",
            "      Melanocytic nevus       0.83      0.87      0.85      1378\n",
            "               Melanoma       0.73      0.62      0.67       542\n",
            "Squamous cell carcinoma       0.93      0.62      0.75       153\n",
            "        Vascular lesion       0.91      0.92      0.92       115\n",
            "\n",
            "               accuracy                           0.77      3254\n",
            "              macro avg       0.80      0.73      0.76      3254\n",
            "           weighted avg       0.78      0.77      0.77      3254\n",
            "\n"
          ]
        }
      ]
    },
    {
      "cell_type": "code",
      "source": [
        "# 혼동 행렬 시각화\n",
        "cm = confusion_matrix(y_true, y_pred)\n",
        "\n",
        "plt.figure(figsize=(10, 8))\n",
        "sns.heatmap(cm, annot=True, fmt='d', cmap='Blues',\n",
        "            xticklabels=class_names, yticklabels=class_names)\n",
        "plt.title(\"Confusion Matrix\")\n",
        "plt.xlabel(\"Predicted\")\n",
        "plt.ylabel(\"Actual\")\n",
        "plt.show()\n"
      ],
      "metadata": {
        "colab": {
          "base_uri": "https://localhost:8080/",
          "height": 882
        },
        "outputId": "22034e2d-e818-432c-c3ee-0da6660c1f88",
        "id": "6tZCkfbdgkR1"
      },
      "execution_count": 21,
      "outputs": [
        {
          "output_type": "display_data",
          "data": {
            "text/plain": [
              "<Figure size 1000x800 with 2 Axes>"
            ],
            "image/png": "[encoded data removed]"
          },
          "metadata": {}
        }
      ]
    },
    {
      "cell_type": "code",
      "source": [
        "# 1️⃣ ViT extractor를 trainable하게 다시 생성\n",
        "vit_extractor = hub.KerasLayer(\n",
        "    \"https://tfhub.dev/sayakpaul/vit_b16_fe/1\",\n",
        "    trainable=True,  # ✅ fine-tuning 활성화\n",
        "    name='vit_feature_extractor'\n",
        ")\n",
        "\n",
        "# 2️⃣ 기존 모델 구조 다시 정의 (Lambda 포함)\n",
        "input_layer = Input(shape=(224, 224, 3), name='input_image')\n",
        "vit_features = Lambda(lambda x: vit_extractor(x))(input_layer)\n",
        "\n",
        "x = Flatten()(vit_features)\n",
        "x = Dense(256, activation='relu')(x)\n",
        "x = Dropout(0.3)(x)\n",
        "output_layer = Dense(num_classes, activation='softmax')(x)\n",
        "\n",
        "# 3️⃣ 새로운 모델로 구성\n",
        "model = Model(inputs=input_layer, outputs=output_layer)\n",
        "\n",
        "# 4️⃣ 반드시 다시 compile\n",
        "model.compile(optimizer=Adam(1e-5),  # 작은 learning rate로\n",
        "              loss='categorical_crossentropy',\n",
        "              metrics=['accuracy'])\n",
        "\n",
        "# 5️⃣ fine-tuning 수행\n",
        "fine_tune_history = model.fit(\n",
        "    train_gen,\n",
        "    epochs=5,  # 🔁 추가 에폭 수 (조절 가능)\n",
        "    validation_data=val_gen,\n",
        "    class_weight=class_weights_dict,\n",
        "    callbacks=callbacks\n",
        ")\n"
      ],
      "metadata": {
        "id": "Eq-7qfJOAUo-",
        "colab": {
          "base_uri": "https://localhost:8080/"
        },
        "outputId": "d06549b5-2c7e-4b58-d5aa-8a2ee7fa1494"
      },
      "execution_count": 23,
      "outputs": [
        {
          "output_type": "stream",
          "name": "stdout",
          "text": [
            "Epoch 1/5\n",
            "\u001b[1m814/814\u001b[0m \u001b[32m━━━━━━━━━━━━━━━━━━━━\u001b[0m\u001b[37m\u001b[0m \u001b[1m513s\u001b[0m 619ms/step - accuracy: 0.2740 - loss: 2.7396 - val_accuracy: 0.5149 - val_loss: 1.4120\n",
            "Epoch 2/5\n",
            "\u001b[1m814/814\u001b[0m \u001b[32m━━━━━━━━━━━━━━━━━━━━\u001b[0m\u001b[37m\u001b[0m \u001b[1m496s\u001b[0m 609ms/step - accuracy: 0.5162 - loss: 1.4788 - val_accuracy: 0.6010 - val_loss: 1.1676\n",
            "Epoch 3/5\n",
            "\u001b[1m814/814\u001b[0m \u001b[32m━━━━━━━━━━━━━━━━━━━━\u001b[0m\u001b[37m\u001b[0m \u001b[1m494s\u001b[0m 606ms/step - accuracy: 0.5999 - loss: 1.2032 - val_accuracy: 0.6339 - val_loss: 1.0559\n",
            "Epoch 4/5\n",
            "\u001b[1m814/814\u001b[0m \u001b[32m━━━━━━━━━━━━━━━━━━━━\u001b[0m\u001b[37m\u001b[0m \u001b[1m491s\u001b[0m 604ms/step - accuracy: 0.6261 - loss: 1.1090 - val_accuracy: 0.6566 - val_loss: 0.9902\n",
            "Epoch 5/5\n",
            "\u001b[1m814/814\u001b[0m \u001b[32m━━━━━━━━━━━━━━━━━━━━\u001b[0m\u001b[37m\u001b[0m \u001b[1m494s\u001b[0m 607ms/step - accuracy: 0.6537 - loss: 1.0200 - val_accuracy: 0.6720 - val_loss: 0.9435\n"
          ]
        }
      ]
    },
    {
      "cell_type": "code",
      "source": [
        "# Test Set 평가\n",
        "test_loss, test_acc = model.evaluate(test_gen)\n",
        "print(f\"✅ Test Accuracy: {test_acc:.4f}, Test Loss: {test_loss:.4f}\")"
      ],
      "metadata": {
        "id": "Ewc1ATZUKV6K",
        "colab": {
          "base_uri": "https://localhost:8080/"
        },
        "outputId": "2e35634d-957d-4bc9-fc1a-e7883402d8f2"
      },
      "execution_count": 24,
      "outputs": [
        {
          "output_type": "stream",
          "name": "stdout",
          "text": [
            "\u001b[1m102/102\u001b[0m \u001b[32m━━━━━━━━━━━━━━━━━━━━\u001b[0m\u001b[37m\u001b[0m \u001b[1m31s\u001b[0m 300ms/step - accuracy: 0.6713 - loss: 0.9785\n",
            "✅ Test Accuracy: 0.6752, Test Loss: 0.9693\n"
          ]
        }
      ]
    },
    {
      "cell_type": "code",
      "source": [
        "from tensorflow.keras.preprocessing import image\n",
        "import os\n",
        "\n",
        "blind_dir = '/content/drive/MyDrive'  # 경로 수정\n",
        "blind_filenames = [os.path.join(blind_dir, fname) for fname in os.listdir(blind_dir)\n",
        "                   if fname.lower().endswith(('.jpg', '.jpeg', '.png'))]\n",
        "\n",
        "# 이미지 로딩 및 전처리\n",
        "def preprocess_image(img_path):\n",
        "    img = image.load_img(img_path, target_size=(224, 224))\n",
        "    img_array = image.img_to_array(img) / 255.0\n",
        "    return img_array\n",
        "\n",
        "X_blind = np.array([preprocess_image(path) for path in blind_filenames])\n",
        "pred_probs = model.predict(X_blind)\n",
        "pred_classes = np.argmax(pred_probs, axis=1)\n",
        "\n",
        "# 클래스명 디코딩\n",
        "idx_to_class = {v: k for k, v in test_gen.class_indices.items()}\n",
        "pred_labels = [idx_to_class[i] for i in pred_classes]\n",
        "\n",
        "# 결과 매핑\n",
        "results = pd.DataFrame({\n",
        "    'filename': blind_filenames,\n",
        "    'predicted_label': pred_labels\n",
        "})\n",
        "\n",
        "print(results.head())"
      ],
      "metadata": {
        "id": "yb4JvWDbK36w"
      },
      "execution_count": null,
      "outputs": []
    }
  ]
}